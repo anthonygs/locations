{
 "cells": [
  {
   "cell_type": "code",
   "execution_count": 1,
   "id": "vocational-buddy",
   "metadata": {},
   "outputs": [
    {
     "name": "stderr",
     "output_type": "stream",
     "text": [
      "C:\\Users\\antho\\Anaconda3\\lib\\site-packages\\cupy\\_environment.py:206: UserWarning: CUDA path could not be detected. Set CUDA_PATH environment variable if CuPy fails to load.\n",
      "  'CUDA path could not be detected.'\n",
      "C:\\Users\\antho\\Anaconda3\\lib\\site-packages\\cupy\\_environment.py:206: UserWarning: CUDA path could not be detected. Set CUDA_PATH environment variable if CuPy fails to load.\n",
      "  'CUDA path could not be detected.'\n",
      "C:\\Users\\antho\\Anaconda3\\lib\\site-packages\\cupy\\_environment.py:206: UserWarning: CUDA path could not be detected. Set CUDA_PATH environment variable if CuPy fails to load.\n",
      "  'CUDA path could not be detected.'\n"
     ]
    }
   ],
   "source": [
    "import os\n",
    "import pandas as pd\n",
    "import numpy as np\n",
    "import seaborn\n",
    "import matplotlib.pyplot as plt\n",
    "import plotly.express as px\n",
    "import pandas as pd\n",
    "from scipy.spatial import distance_matrix\n",
    "\n",
    "import warnings\n",
    "warnings.filterwarnings('ignore')\n",
    "from random import randint\n",
    "from random import shuffle, random, sample, randint, randrange, uniform\n",
    "import random\n",
    "from scipy.spatial.distance import cdist\n",
    "from haversine import haversine"
   ]
  },
  {
   "cell_type": "code",
   "execution_count": 49,
   "id": "supposed-appreciation",
   "metadata": {},
   "outputs": [],
   "source": [
    "df_point=pd.read_excel(\"Candidatos_supermercados.xlsx\")"
   ]
  },
  {
   "cell_type": "code",
   "execution_count": 50,
   "id": "appropriate-mistress",
   "metadata": {},
   "outputs": [],
   "source": [
    "df_point[\"ID2\"]=df_point.ID.str.split(\" \",expand=True)[1]"
   ]
  },
  {
   "cell_type": "markdown",
   "id": "otherwise-terminology",
   "metadata": {},
   "source": [
    "## Matriz de distancia Haversine "
   ]
  },
  {
   "cell_type": "code",
   "execution_count": 51,
   "id": "natural-fisher",
   "metadata": {},
   "outputs": [],
   "source": [
    "from scipy.spatial.distance import cdist\n",
    "from haversine import haversine"
   ]
  },
  {
   "cell_type": "code",
   "execution_count": 52,
   "id": "intelligent-cowboy",
   "metadata": {},
   "outputs": [],
   "source": [
    "df_distance= pd.DataFrame(cdist(df_point[[\"Longitud\",\"Latitud\"]],df_point[[\"Longitud\",\"Latitud\"]],metric=haversine), index=df_point.ID2, columns=df_point.ID2)"
   ]
  },
  {
   "cell_type": "code",
   "execution_count": 53,
   "id": "unique-messaging",
   "metadata": {},
   "outputs": [],
   "source": [
    "import sys\n",
    "import time\n",
    "import numpy as np\n",
    "import random\n",
    "from copy import deepcopy\n",
    "import matplotlib.pyplot as plt\n",
    "from random import randrange"
   ]
  },
  {
   "cell_type": "markdown",
   "id": "simplified-modification",
   "metadata": {},
   "source": [
    "### Define el objeto Item en el problema de la mochila\n",
    "Un objeto de clase Item almacena el valor del item y el peso del item "
   ]
  },
  {
   "cell_type": "markdown",
   "id": "silent-former",
   "metadata": {
    "colab_type": "text",
    "id": "MnVcuNVdk-IS"
   },
   "source": [
    "### Estructura AG\n",
    "\n",
    "Individio de AG cadena de 60bits, cada bit representa si una localización es seleccionada o no."
   ]
  },
  {
   "cell_type": "code",
   "execution_count": 242,
   "id": "catholic-meeting",
   "metadata": {
    "colab": {},
    "colab_type": "code",
    "id": "JjbNgyCdk-IU"
   },
   "outputs": [],
   "source": [
    "class Individual :\n",
    "\n",
    "    def __init__(self, chromosome):  # el constructor recibe un cromosoma\n",
    "        self.chromosome = chromosome[:]  \n",
    "        self.fitness = -1  # -1 indica que el individuo no ha sido evaluado\n",
    "  \n",
    "\n",
    "    def crossover_onepoint(self, other):\n",
    "        \"Retorna dos nuevos individuos del cruzamiento de un punto entre individuos self y other \"\n",
    "        c = randrange(len(self.chromosome))\n",
    "        ind1 = Individual(self.chromosome[:c] + other.chromosome[c:])\n",
    "        ind2 = Individual(other.chromosome[:c] + self.chromosome[c:])\n",
    "        return [ind1, ind2]   \n",
    "    \n",
    "    def crossover_uniform(self, other):\n",
    "        chromosome1 = []\n",
    "        chromosome2 = []\n",
    "        \"Retorna dos nuevos individuos del cruzamiento uniforme entre self y other \"\n",
    "        for i in range(len(self.chromosome)):\n",
    "            if random.uniform(0, 1) < 0.5:\n",
    "                chromosome1.append(self.chromosome[i])\n",
    "                chromosome2.append(other.chromosome[i])\n",
    "            else:\n",
    "                chromosome1.append(other.chromosome[i])\n",
    "                chromosome2.append(self.chromosome[i])\n",
    "        ind1 = Individual(chromosome1)\n",
    "        ind2 = Individual(chromosome2)\n",
    "        return [ind1, ind2] \n",
    "\n",
    "    def mutation_flip(self):\n",
    "        \"Cambia el alelo de un gen escogido aleatoriamente.\"\n",
    "        new_chromosome = deepcopy(self.chromosome)\n",
    "        mutGene = random.randrange(0,len(new_chromosome))   # escoge un gen para mutar\n",
    "        if new_chromosome[mutGene] == 0:\n",
    "            new_chromosome[mutGene] = 1\n",
    "        else:\n",
    "            new_chromosome[mutGene] = 0\n",
    "        return Individual(new_chromosome)\n",
    "    \n",
    "    def mutation_multiflip(self):\n",
    "        new_chromosome = deepcopy(self.chromosome)\n",
    "        index_list=list(range(0,len(new_chromosome))) #lista con indices del chromosomeinit\n",
    "        random.shuffle(index_list)#orden aleatorio\n",
    "        rdn_index=inde_list[0:int(len(index_list)/2)]#eligiendo el 50%\n",
    "        \n",
    "        for i in  range(0,len(new_chromosome)):\n",
    "            if i in rdn_index:\n",
    "                if new_chromosome[i] == 0:\n",
    "                    new_chromosome[i] = 1\n",
    "                else:\n",
    "                    new_chromosome[i] = 0\n",
    "\n",
    "        \n",
    "        return Individual(new_chromosome)\n"
   ]
  },
  {
   "cell_type": "markdown",
   "id": "industrial-startup",
   "metadata": {
    "colab_type": "text",
    "id": "fJsv0S_8k-IZ"
   },
   "source": [
    "### Funcion para obtener el fitness de un cromosoma"
   ]
  },
  {
   "cell_type": "code",
   "execution_count": 163,
   "id": "smart-toner",
   "metadata": {
    "colab": {},
    "colab_type": "code",
    "id": "x-OUH07tk-Ic"
   },
   "outputs": [],
   "source": [
    "def get_fitness(chromosome, max_points):\n",
    "    \"\"\"Representa la suma de distancias entre todos los posibles pares de localizaciones escogidas en el individuo (45 pares distintos) (n*(n-1))/2 más la suma de las \n",
    "poblaciones alrededor de cada supermercado escogido\"\"\"\n",
    "    fitness = 0 # initialize fitness to 0\n",
    "    sum_locations = 0\n",
    "    \n",
    "    indexs = [i+1 for i, x in enumerate(chromosome) if x == 1] #Recupera todos los indexs con valor 1\n",
    "    indexs=list(map(str,indexs))#Parse int para cruzarlo con la matriz de distancia\n",
    "    fitness=df_distance.loc[indexs][indexs].values.sum()/2 *1000 # suma de todas las distancias en metros\n",
    "    fitness=fitness+df_point[df_point[\"ID2\"].isin(indexs)].iloc[:,4].sum()\n",
    "            \n",
    "    if len(indexs)>max_points:\n",
    "        return 0.001\n",
    "        #return fitness - 800000*(len(indexs)-max_points)\n",
    "    return fitness"
   ]
  },
  {
   "cell_type": "markdown",
   "id": "major-judge",
   "metadata": {
    "colab_type": "text",
    "id": "Xw6sR4v7k-Ii"
   },
   "source": [
    "### Funcion para evaluar una población de individuos "
   ]
  },
  {
   "cell_type": "code",
   "execution_count": 132,
   "id": "remarkable-cameroon",
   "metadata": {
    "colab": {},
    "colab_type": "code",
    "id": "Pqtbl-Zlk-Ij"
   },
   "outputs": [],
   "source": [
    "def evaluate_population(population, max_points):\n",
    "    \"\"\" Evalua una poblacion de individuos con la funcion get_fitness \"\"\"\n",
    "    popsize = len(population)\n",
    "    for i in range(popsize):\n",
    "        if population[i].fitness == -1:    # evalua solo si el individuo no esta evaluado\n",
    "            population[i].fitness = get_fitness(population[i].chromosome, max_points)"
   ]
  },
  {
   "cell_type": "markdown",
   "id": "possible-candy",
   "metadata": {
    "colab_type": "text",
    "id": "PuScmwjyk-In"
   },
   "source": [
    "### Funcion para inicializar aleatoriamente una población de individuos"
   ]
  },
  {
   "cell_type": "code",
   "execution_count": 179,
   "id": "political-numbers",
   "metadata": {
    "colab": {},
    "colab_type": "code",
    "id": "swoZMGwdk-Io"
   },
   "outputs": [],
   "source": [
    "def init_population(popsize, chromosome_size, zeroes=False):\n",
    "    \"\"\"Inicializa una poblacion de popsize individuos, cada cromosoma de individuo de tamaño chromosome_size.\n",
    "       Si zeroes==False La inicializacion es aleatoria (por defecto), si zeroes=True los cromosomas son vectores de ceros\"\"\"\n",
    "    population = []\n",
    "    for i in range(popsize):\n",
    "        new_chromosome=[0]*chromosome_size\n",
    "        lista=random.sample(range(0,chromosome_size ), 20)\n",
    "        for u in range(0,chromosome_size):\n",
    "            if u in lista:\n",
    "                new_chromosome[u]=1\n",
    "    \n",
    "   \n",
    " \n",
    "        population.append( Individual(new_chromosome) )\n",
    "    return population"
   ]
  },
  {
   "cell_type": "markdown",
   "id": "colonial-printing",
   "metadata": {
    "colab_type": "text",
    "id": "9IhMfqBDk-It"
   },
   "source": [
    "### Operadores de seleccion de padres"
   ]
  },
  {
   "cell_type": "markdown",
   "id": "raised-wrestling",
   "metadata": {},
   "source": [
    "#### Seleccion por Ruleta"
   ]
  },
  {
   "cell_type": "code",
   "execution_count": 168,
   "id": "later-chicago",
   "metadata": {
    "colab": {},
    "colab_type": "code",
    "id": "KyRz3__4k-It"
   },
   "outputs": [],
   "source": [
    "def select_parents_roulette(population):\n",
    "    popsize = len(population)\n",
    "    \n",
    "    # Escoje el primer padre\n",
    "    sumfitness = sum([indiv.fitness for indiv in population])  # suma total del fitness de la poblacion\n",
    "    pickfitness = random.uniform(0, sumfitness)   # escoge un numero aleatorio entre 0 y sumfitness\n",
    "    cumfitness = 0     # fitness acumulado\n",
    "    for i in range(popsize):\n",
    "        cumfitness += population[i].fitness\n",
    "        if cumfitness > pickfitness: \n",
    "            iParent1 = i\n",
    "            break\n",
    "    \n",
    "    # Escoje el segundo padre, desconsiderando el primer padre\n",
    "    sumfitness = sumfitness - population[iParent1].fitness # retira el fitness del padre ya escogido\n",
    "    pickfitness = random.uniform(0, sumfitness)   # escoge un numero aleatorio entre 0 y sumfitness\n",
    "    cumfitness = 0     # fitness acumulado\n",
    "    for i in range(popsize):\n",
    "        if i == iParent1: continue   # si es el primer padre \n",
    "        cumfitness += population[i].fitness\n",
    "        if cumfitness > pickfitness: \n",
    "            iParent2 = i\n",
    "            break        \n",
    "    return (population[iParent1], population[iParent2])"
   ]
  },
  {
   "cell_type": "markdown",
   "id": "artistic-butter",
   "metadata": {},
   "source": [
    "#### Seleccion por Torneo"
   ]
  },
  {
   "cell_type": "code",
   "execution_count": 169,
   "id": "cross-filename",
   "metadata": {},
   "outputs": [],
   "source": [
    "def select_parents_tournament(population, tournament_size):\n",
    "    # Escoje el primer padre\n",
    "    list_indiv=[]\n",
    "    x1 = np.random.permutation(len(population) )\n",
    "    y1= x1[0:tournament_size]\n",
    "    for i in range(tournament_size):\n",
    "        list_indiv.append(population[y1[i]].fitness)\n",
    "    \n",
    "    iParent1=np.argmax(list_indiv)\n",
    "    \n",
    "    # Escoje el segundo padre, desconsiderando el primer padre   \n",
    "    x2 = np.delete(x1, iParent1)\n",
    "    x2 = np.random.permutation(x2)\n",
    "    list_indiv=[]\n",
    "    y2= x2[0:tournament_size]\n",
    "    for i in range(tournament_size):\n",
    "        list_indiv.append(population[y2[i]].fitness)\n",
    "    iParent2=np.argmax(list_indiv)\n",
    "    \n",
    "    return (population[x1[iParent1]],population[x2[iParent2]])"
   ]
  },
  {
   "cell_type": "markdown",
   "id": "strange-discussion",
   "metadata": {},
   "source": [
    "### Operadores de Seleccion de sobrevivientes\n"
   ]
  },
  {
   "cell_type": "markdown",
   "id": "toxic-things",
   "metadata": {
    "colab_type": "text",
    "id": "e8CZqrC4k-Ix"
   },
   "source": [
    "#### Función de selección de la poblacion para la sgte generación por ranking\n",
    "Selecciona la población siguiente ranqueando los individuos de la poblacion actual (population) y la poblacion descendencia (offspring_population) y escogiendo los mejores numsurvivors  individuos "
   ]
  },
  {
   "cell_type": "code",
   "execution_count": 170,
   "id": "checked-license",
   "metadata": {
    "colab": {},
    "colab_type": "code",
    "id": "Ua4QyA9hk-Ix"
   },
   "outputs": [],
   "source": [
    "def select_survivors_ranking(population, offspring_population, numsurvivors):\n",
    "    next_population = []\n",
    "    population.extend(offspring_population) # une las dos poblaciones\n",
    "    isurvivors = sorted(range(len(population)), key=lambda i: population[i].fitness, reverse=True)[:numsurvivors]\n",
    "    for i in range(numsurvivors):\n",
    "        next_population.append(population[isurvivors[i]])\n",
    "    return next_population"
   ]
  },
  {
   "cell_type": "markdown",
   "id": "tamil-station",
   "metadata": {
    "colab_type": "text",
    "id": "akvirSobk-I2"
   },
   "source": [
    "### Algoritmo Genetico para encontrar soluciones al problema de la mochila\n",
    "Recibe una poblacion inicial, lista de items, maximo peso de la mochila (max_weight), numero de generaciones (ngen), taza de mutación (pmut), operador de cruzamiento (crossover), operador de mutacion (mutation), metodo de seleccion de padres (selection_parents_method), metodo de seleccion de sobrevivientes (selection_survivors_method) "
   ]
  },
  {
   "cell_type": "code",
   "execution_count": 171,
   "id": "widespread-lover",
   "metadata": {
    "colab": {},
    "colab_type": "code",
    "id": "s_rCJHyMk-I4"
   },
   "outputs": [],
   "source": [
    "def genetic_algorithm(population, max_points, ngen=100, pmut=0.1, \n",
    "                      crossover=\"onepoint\", mutation=\"flip\", \n",
    "                      selection_parents_method=\"roulette\", \n",
    "                      selection_survivors_method=\"ranking\"):\n",
    "    \"\"\"\n",
    "        max_points: número maximo de locaciones\n",
    "        ngen:       maximo numero de generaciones \n",
    "        pmut:       tasa de mutacion\n",
    "        crossover:  operador de cruzamiento\n",
    "        mutation:   operador de mutacion\n",
    "        selection_parents_method: método de selección de padres para cruzamiento\n",
    "        selection_survivors_method: método de selección de sobrevivientes \n",
    "    \"\"\"\n",
    "    \n",
    "    popsize = len(population)\n",
    "    evaluate_population(population, max_points)  # evalua la poblacion inicial\n",
    "    ibest = sorted(range(len(population)), key=lambda i: population[i].fitness, reverse=True)[:1]  # mejor individuo\n",
    "    bestfitness = [population[ibest[0]].fitness]  # fitness del mejor individuo\n",
    "    print(\"Poblacion inicial, best_fitness = {}\".format(population[ibest[0]].fitness))\n",
    "    \n",
    "    for g in range(ngen):   # Por cada generacion\n",
    "\n",
    "        ## Selecciona parejas de individuos (mating_pool) para cruzamiento con el metodo de la ruleta\n",
    "        mating_pool = []\n",
    "        for i in range(int(popsize/2)):\n",
    "            if selection_parents_method == \"roulette\":\n",
    "                mating_pool.append(select_parents_roulette(population))\n",
    "            elif selection_parents_method == \"tournament\":\n",
    "                mating_pool.append(select_parents_tournament(population, 3))\n",
    "            else:\n",
    "                raise NotImplementedError\n",
    "        ## Crea la poblacion descendencia cruzando las parejas del mating pool \n",
    "        offspring_population = []\n",
    "        for i in range(len(mating_pool)): \n",
    "            if crossover == \"onepoint\":\n",
    "                offspring_population.extend( mating_pool[i][0].crossover_onepoint(mating_pool[i][1]) ) # cruzamiento 1 punto\n",
    "            elif crossover == \"uniform\":\n",
    "                offspring_population.extend( mating_pool[i][0].crossover_uniform(mating_pool[i][1]) ) # cruzamiento uniforme\n",
    "            else:\n",
    "                raise NotImplementedError\n",
    "\n",
    "        ## Aplica el operador de mutacion con probabilidad pmut en cada hijo generado\n",
    "        for i in range(len(offspring_population)):\n",
    "            if random.uniform(0, 1) < pmut: \n",
    "                if mutation == \"flip\":\n",
    "                    offspring_population[i] = offspring_population[i].mutation_flip() # cambia el alelo de un gen\n",
    "                elif mutation == \"multiflip\":\n",
    "                    offspring_population[i] = offspring_population[i].mutation_multiflip() # cambia el alelo de un gen\n",
    "                elif mutation == \"inversion\":\n",
    "                    offspring_population[i] = offspring_population[i].mutation_inversion() # invierte todos los genes entre 2 puntos al azar\n",
    "                else:\n",
    "                    raise NotImplementedError   \n",
    "        \n",
    "        ## Evalua la poblacion descendencia creada\n",
    "        evaluate_population(offspring_population, max_points)   # evalua la poblacion descendencia\n",
    "        \n",
    "        ## Selecciona individuos para la sgte. generación \n",
    "        if selection_survivors_method == \"ranking\":\n",
    "            population = select_survivors_ranking(population, offspring_population, popsize) #metodo de ranking\n",
    "        else:\n",
    "            raise NotImplementedError\n",
    "            \n",
    "        ## Almacena la historia del fitness del mejor individuo\n",
    "        ibest = sorted(range(len(population)), key=lambda i: population[i].fitness, reverse=True)[:1]\n",
    "        bestfitness.append(population[ibest[0]].fitness)\n",
    "        \n",
    "        #if (g % 200 == 0):  # muestra resultados cada 10 generaciones\n",
    "         #   print(\"generacion {}, (Mejor fitness = {})\".format(g, population[ibest[0]].fitness))\n",
    "        \n",
    "    print(\"Mejor individuo en la ultima generacion = {} (fitness = {})\".format(population[ibest[0]].chromosome, population[ibest[0]].fitness))\n",
    "    return population[ibest[0]], bestfitness  # devuelve el mejor individuo y la lista de mejores fitness x gen"
   ]
  },
  {
   "cell_type": "markdown",
   "id": "designing-scratch",
   "metadata": {
    "colab_type": "text",
    "id": "UBJge-E7k-I8"
   },
   "source": [
    " ## Probando el Algoritmo genetico"
   ]
  },
  {
   "cell_type": "markdown",
   "id": "gross-evidence",
   "metadata": {},
   "source": [
    "<b> Ejecuta el algoritmo genetico </b>"
   ]
  },
  {
   "cell_type": "code",
   "execution_count": 205,
   "id": "brilliant-regular",
   "metadata": {
    "colab": {
     "base_uri": "https://localhost:8080/",
     "height": 813
    },
    "colab_type": "code",
    "executionInfo": {
     "elapsed": 1280,
     "status": "ok",
     "timestamp": 1556600868083,
     "user": {
      "displayName": "FRANCO PARIASCA TREVEJO",
      "photoUrl": "",
      "userId": "00191544209069005587"
     },
     "user_tz": 300
    },
    "id": "ITMAb6-Yk-I9",
    "outputId": "81fc29f6-0244-409a-acd1-594b32bd09bc"
   },
   "outputs": [
    {
     "name": "stdout",
     "output_type": "stream",
     "text": [
      "Poblacion inicial, best_fitness = 0.001\n",
      "Mejor individuo en la ultima generacion = [0, 1, 0, 0, 0, 0, 0, 0, 0, 1, 1, 0, 0, 1, 1, 0, 0, 0, 0, 0, 0, 0, 0, 0, 0, 0, 0, 1, 1, 0, 0, 1, 0, 0, 0, 0, 0, 0, 0, 0, 0, 0, 0, 0, 1, 0, 0, 0, 0, 0, 0, 0, 0, 0, 0, 0, 0, 0, 0, 1] (fitness = 631587.0297308282)\n"
     ]
    },
    {
     "data": {
      "image/png": "[encoded data removed]",
      "text/plain": [
       "<Figure size 432x288 with 1 Axes>"
      ]
     },
     "metadata": {
      "needs_background": "light"
     },
     "output_type": "display_data"
    }
   ],
   "source": [
    "## Hiperparametros del algoritmo genetico\n",
    "POPSIZE =100      # numero de individuos\n",
    "GENERATIONS = 500   # numero de generaciones\n",
    "PMUT = 0.3       # taza de mutacion\n",
    "\n",
    "## Inicializa una poblacion inicial de forma aleatoria\n",
    "population = init_population(POPSIZE, NUM_ITEMS)\n",
    "pop2=population\n",
    "# Evolue la poblacion con el algoritmo genetico (cruzamiento 'onepoint', )\n",
    "best_ind, bestfitness = genetic_algorithm(population=population ,max_points= 10 , ngen=GENERATIONS, \n",
    "                                          pmut=PMUT,           crossover=\"uniform\", mutation=\"flip\",selection_parents_method = 'roulette',\n",
    "                                          selection_survivors_method = 'ranking')\n",
    "#genetic_algorithm()\n",
    "# muestra la evolucion del mejor fitness\n",
    "plt.plot(bestfitness)\n",
    "plt.show()\n"
   ]
  },
  {
   "cell_type": "code",
   "execution_count": 199,
   "id": "elect-rocket",
   "metadata": {},
   "outputs": [
    {
     "name": "stdout",
     "output_type": "stream",
     "text": [
      "Poblacion inicial, best_fitness = 0.001\n",
      "Mejor individuo en la ultima generacion = [0, 1, 0, 0, 0, 0, 0, 0, 0, 1, 1, 0, 0, 1, 1, 0, 0, 0, 0, 0, 0, 0, 0, 0, 0, 0, 0, 1, 1, 0, 0, 1, 0, 0, 0, 0, 0, 0, 0, 0, 0, 0, 0, 0, 1, 0, 0, 0, 0, 0, 0, 0, 0, 0, 0, 0, 0, 0, 0, 1] (fitness = 631587.0297308282)\n"
     ]
    },
    {
     "data": {
      "image/png": "[encoded data removed]",
      "text/plain": [
       "<Figure size 432x288 with 1 Axes>"
      ]
     },
     "metadata": {
      "needs_background": "light"
     },
     "output_type": "display_data"
    }
   ],
   "source": [
    "best_ind, bestfitness = genetic_algorithm(population=population ,max_points= 10 , ngen=GENERATIONS, \n",
    "                                          pmut=0.7,           crossover=\"uniform\", mutation=\"flip\",selection_parents_method = 'roulette',\n",
    "                                          selection_survivors_method = 'ranking')\n",
    "#genetic_algorithm()\n",
    "# muestra la evolucion del mejor fitness\n",
    "plt.plot(bestfitness)\n",
    "plt.show()"
   ]
  },
  {
   "cell_type": "code",
   "execution_count": 236,
   "id": "prime-leonard",
   "metadata": {},
   "outputs": [],
   "source": [
    "def run_algo (pop,gene,pmut,cross,muta,parent,suvivor,max_points,n_corridas):\n",
    "    import gc\n",
    "    \n",
    "    random.seed(2020) \n",
    "    bf_list=[]\n",
    "    bi_list=[]\n",
    "    fit_list=[]\n",
    "    POPSIZE = pop       # numero de individuos\n",
    "    GENERATIONS = gene   # numero de generaciones\n",
    "    PMUT = pmut       # taza de mutacion\n",
    "    population = init_population(POPSIZE, NUM_ITEMS)\n",
    "\n",
    "    for i in range(1,n_corridas+1): \n",
    "        gc.collect()\n",
    "        POPSIZE = pop       # numero de individuos\n",
    "        GENERATIONS = gene   # numero de generaciones\n",
    "        PMUT = pmut       # taza de mutacion\n",
    "        population = init_population(POPSIZE, NUM_ITEMS)\n",
    "        ## Inicializa una poblacion inicial de forma aleatoria\n",
    "       # population = init_population(POPSIZE, NUM_ITEMS)\n",
    "        # Evolue la poblacion con el algoritmo genetico (cruzamiento 'onepoint', )\n",
    "        best_ind, bestfitness = genetic_algorithm(population, max_points, GENERATIONS, PMUT, \n",
    "                                                  crossover=cross, mutation=muta, \n",
    "                                                  selection_parents_method = parent, \n",
    "                                                  selection_survivors_method = suvivor)\n",
    "        indexs = [i+1 for i, x in enumerate(best_ind.chromosome) if x == 1] #Recupera todos los indexs con valor 1\n",
    "        indexs=list(map(str,indexs))#Parse int para cruzarlo con la matriz de distancia\n",
    "        fitness1=df_distance.loc[indexs][indexs].values.sum()/2 *1000 # suma de todas las distancias en metros\n",
    "        fitness2=df_point[df_point[\"ID2\"].isin(indexs)].iloc[:,4].sum()\n",
    "        fitness3=fitness1+fitness2\n",
    "        bf_list.append(bestfitness)\n",
    "        bi_list.append(best_ind)\n",
    "        fit_list.append([fitness1,fitness2,fitness3])\n",
    "    FIT_ME=np.mean([max(x) for x in bf_list ])\n",
    "    CONVER=[]\n",
    "    for a in bf_list:\n",
    "\n",
    "        b=max(a)\n",
    "        CONVER.append(a.index(b))\n",
    "    CONVER= np.mean(CONVER)\n",
    "    return FIT_ME,CONVER,bf_list,bi_list,pd.DataFrame(c, columns=[\"FIT_DISTANCE\",\"FIT_POPULATION\",\"FIT_TOTAL\"])"
   ]
  },
  {
   "cell_type": "code",
   "execution_count": 237,
   "id": "chief-messaging",
   "metadata": {},
   "outputs": [
    {
     "name": "stdout",
     "output_type": "stream",
     "text": [
      "Poblacion inicial, best_fitness = 0.001\n",
      "Mejor individuo en la ultima generacion = [0, 1, 0, 0, 0, 0, 1, 0, 0, 0, 1, 0, 0, 1, 1, 0, 0, 0, 0, 0, 0, 0, 0, 0, 0, 0, 0, 1, 1, 0, 0, 1, 0, 0, 0, 0, 0, 0, 0, 0, 0, 0, 0, 0, 1, 0, 0, 0, 0, 0, 0, 0, 0, 0, 0, 0, 0, 0, 0, 1] (fitness = 630551.6726289608)\n",
      "Poblacion inicial, best_fitness = 0.001\n",
      "Mejor individuo en la ultima generacion = [0, 1, 0, 0, 0, 0, 0, 0, 0, 0, 1, 0, 1, 1, 1, 0, 0, 0, 0, 0, 0, 0, 0, 0, 0, 0, 0, 1, 1, 0, 0, 1, 0, 0, 1, 0, 0, 0, 0, 0, 1, 0, 0, 0, 0, 0, 0, 0, 0, 0, 0, 0, 0, 0, 0, 0, 0, 0, 0, 0] (fitness = 627068.3641190969)\n",
      "Poblacion inicial, best_fitness = 0.001\n",
      "Mejor individuo en la ultima generacion = [0, 1, 0, 0, 0, 0, 0, 0, 1, 1, 1, 0, 0, 0, 1, 0, 0, 0, 0, 0, 0, 0, 0, 0, 0, 0, 0, 1, 1, 0, 0, 1, 0, 0, 0, 0, 0, 0, 0, 0, 0, 0, 0, 0, 1, 0, 0, 0, 0, 0, 0, 0, 0, 0, 0, 0, 0, 0, 0, 1] (fitness = 630509.2759242074)\n",
      "Poblacion inicial, best_fitness = 0.001\n",
      "Mejor individuo en la ultima generacion = [0, 1, 0, 0, 0, 0, 0, 0, 0, 1, 1, 0, 1, 0, 1, 0, 0, 0, 0, 0, 0, 0, 0, 0, 0, 0, 0, 1, 1, 0, 0, 1, 0, 0, 0, 0, 0, 0, 0, 0, 0, 0, 0, 0, 1, 0, 0, 0, 0, 0, 0, 0, 0, 0, 0, 0, 0, 0, 0, 1] (fitness = 631271.4330738669)\n",
      "Poblacion inicial, best_fitness = 0.001\n",
      "Mejor individuo en la ultima generacion = [0, 0, 0, 0, 0, 0, 0, 0, 0, 1, 1, 0, 1, 1, 1, 0, 0, 0, 0, 0, 0, 0, 0, 0, 0, 0, 0, 1, 1, 0, 0, 0, 1, 0, 0, 0, 0, 0, 0, 0, 0, 0, 1, 0, 0, 0, 0, 0, 0, 0, 0, 0, 0, 0, 0, 0, 0, 0, 0, 1] (fitness = 627015.3117120625)\n",
      "Poblacion inicial, best_fitness = 0.001\n",
      "Mejor individuo en la ultima generacion = [0, 1, 0, 0, 0, 0, 0, 0, 0, 1, 1, 0, 0, 1, 1, 0, 0, 0, 0, 0, 0, 0, 0, 0, 0, 0, 0, 1, 1, 0, 0, 0, 1, 0, 0, 0, 0, 0, 0, 0, 0, 0, 0, 0, 1, 0, 0, 0, 0, 0, 0, 0, 0, 0, 0, 0, 0, 0, 0, 1] (fitness = 630798.6658994769)\n",
      "Poblacion inicial, best_fitness = 0.001\n",
      "Mejor individuo en la ultima generacion = [0, 0, 0, 0, 0, 0, 1, 1, 0, 0, 1, 0, 0, 0, 1, 0, 0, 0, 0, 1, 0, 0, 0, 0, 0, 0, 0, 1, 1, 0, 0, 1, 0, 0, 0, 1, 0, 0, 0, 0, 0, 0, 0, 0, 1, 0, 0, 0, 0, 0, 0, 0, 0, 0, 0, 0, 0, 0, 0, 0] (fitness = 624867.808495525)\n",
      "Poblacion inicial, best_fitness = 0.001\n",
      "Mejor individuo en la ultima generacion = [0, 1, 0, 0, 0, 0, 0, 0, 0, 1, 1, 0, 1, 0, 1, 0, 0, 0, 0, 0, 0, 0, 0, 0, 0, 0, 0, 1, 1, 0, 0, 1, 0, 0, 0, 0, 0, 0, 0, 1, 0, 0, 0, 0, 1, 0, 0, 0, 0, 0, 0, 0, 0, 0, 0, 0, 0, 0, 0, 0] (fitness = 630750.0278251367)\n",
      "Poblacion inicial, best_fitness = 0.001\n",
      "Mejor individuo en la ultima generacion = [0, 1, 0, 0, 0, 0, 0, 0, 0, 1, 1, 0, 0, 1, 1, 0, 0, 0, 0, 0, 0, 0, 0, 0, 0, 0, 0, 1, 1, 0, 0, 1, 0, 0, 0, 0, 0, 0, 0, 0, 0, 0, 0, 0, 1, 0, 0, 0, 0, 0, 0, 0, 0, 0, 0, 0, 0, 0, 0, 1] (fitness = 631587.0297308282)\n",
      "Poblacion inicial, best_fitness = 0.001\n",
      "Mejor individuo en la ultima generacion = [0, 0, 0, 0, 0, 0, 0, 0, 0, 1, 1, 0, 1, 1, 1, 0, 0, 0, 0, 0, 0, 0, 0, 0, 0, 0, 0, 1, 1, 0, 0, 1, 0, 0, 0, 1, 0, 0, 0, 0, 0, 0, 0, 0, 1, 0, 0, 0, 0, 0, 0, 0, 0, 0, 0, 0, 0, 0, 0, 0] (fitness = 629420.8737298637)\n"
     ]
    }
   ],
   "source": [
    "FIT_OP_R,CON_OP_R,a,b,c=run_algo(100,500,0.3,\"uniform\",\"flip\",\"roulette\",\"ranking\",10,10)"
   ]
  },
  {
   "cell_type": "code",
   "execution_count": 238,
   "id": "spectacular-testimony",
   "metadata": {},
   "outputs": [
    {
     "data": {
      "text/html": [
       "<div>\n",
       "<style scoped>\n",
       "    .dataframe tbody tr th:only-of-type {\n",
       "        vertical-align: middle;\n",
       "    }\n",
       "\n",
       "    .dataframe tbody tr th {\n",
       "        vertical-align: top;\n",
       "    }\n",
       "\n",
       "    .dataframe thead th {\n",
       "        text-align: right;\n",
       "    }\n",
       "</style>\n",
       "<table border=\"1\" class=\"dataframe\">\n",
       "  <thead>\n",
       "    <tr style=\"text-align: right;\">\n",
       "      <th></th>\n",
       "      <th>FIT_DISTANCE</th>\n",
       "      <th>FIT_POPULATION</th>\n",
       "      <th>FIT_TOTAL</th>\n",
       "    </tr>\n",
       "  </thead>\n",
       "  <tbody>\n",
       "    <tr>\n",
       "      <th>0</th>\n",
       "      <td>500810.017899</td>\n",
       "      <td>128600</td>\n",
       "      <td>629410.017899</td>\n",
       "    </tr>\n",
       "    <tr>\n",
       "      <th>1</th>\n",
       "      <td>509514.830875</td>\n",
       "      <td>118800</td>\n",
       "      <td>628314.830875</td>\n",
       "    </tr>\n",
       "    <tr>\n",
       "      <th>2</th>\n",
       "      <td>499533.092912</td>\n",
       "      <td>129200</td>\n",
       "      <td>628733.092912</td>\n",
       "    </tr>\n",
       "    <tr>\n",
       "      <th>3</th>\n",
       "      <td>477636.049024</td>\n",
       "      <td>134150</td>\n",
       "      <td>611786.049024</td>\n",
       "    </tr>\n",
       "    <tr>\n",
       "      <th>4</th>\n",
       "      <td>508666.370245</td>\n",
       "      <td>120550</td>\n",
       "      <td>629216.370245</td>\n",
       "    </tr>\n",
       "    <tr>\n",
       "      <th>5</th>\n",
       "      <td>501427.746866</td>\n",
       "      <td>129700</td>\n",
       "      <td>631127.746866</td>\n",
       "    </tr>\n",
       "    <tr>\n",
       "      <th>6</th>\n",
       "      <td>501183.599999</td>\n",
       "      <td>125300</td>\n",
       "      <td>626483.599999</td>\n",
       "    </tr>\n",
       "    <tr>\n",
       "      <th>7</th>\n",
       "      <td>500744.730993</td>\n",
       "      <td>125450</td>\n",
       "      <td>626194.730993</td>\n",
       "    </tr>\n",
       "    <tr>\n",
       "      <th>8</th>\n",
       "      <td>510222.883566</td>\n",
       "      <td>120000</td>\n",
       "      <td>630222.883566</td>\n",
       "    </tr>\n",
       "    <tr>\n",
       "      <th>9</th>\n",
       "      <td>507875.230402</td>\n",
       "      <td>119100</td>\n",
       "      <td>626975.230402</td>\n",
       "    </tr>\n",
       "  </tbody>\n",
       "</table>\n",
       "</div>"
      ],
      "text/plain": [
       "    FIT_DISTANCE  FIT_POPULATION      FIT_TOTAL\n",
       "0  500810.017899          128600  629410.017899\n",
       "1  509514.830875          118800  628314.830875\n",
       "2  499533.092912          129200  628733.092912\n",
       "3  477636.049024          134150  611786.049024\n",
       "4  508666.370245          120550  629216.370245\n",
       "5  501427.746866          129700  631127.746866\n",
       "6  501183.599999          125300  626483.599999\n",
       "7  500744.730993          125450  626194.730993\n",
       "8  510222.883566          120000  630222.883566\n",
       "9  507875.230402          119100  626975.230402"
      ]
     },
     "execution_count": 238,
     "metadata": {},
     "output_type": "execute_result"
    }
   ],
   "source": [
    "c\n"
   ]
  },
  {
   "cell_type": "code",
   "execution_count": null,
   "id": "irish-profession",
   "metadata": {},
   "outputs": [],
   "source": []
  }
 ],
 "metadata": {
  "kernelspec": {
   "display_name": "Python 3",
   "language": "python",
   "name": "python3"
  },
  "language_info": {
   "codemirror_mode": {
    "name": "ipython",
    "version": 3
   },
   "file_extension": ".py",
   "mimetype": "text/x-python",
   "name": "python",
   "nbconvert_exporter": "python",
   "pygments_lexer": "ipython3",
   "version": "3.7.10"
  }
 },
 "nbformat": 4,
 "nbformat_minor": 5
}
