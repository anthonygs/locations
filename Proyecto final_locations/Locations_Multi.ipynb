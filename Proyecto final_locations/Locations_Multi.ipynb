{
 "cells": [
  {
   "cell_type": "code",
   "execution_count": 1,
   "id": "under-north",
   "metadata": {},
   "outputs": [
    {
     "name": "stderr",
     "output_type": "stream",
     "text": [
      "C:\\Users\\antho\\Anaconda3\\lib\\site-packages\\cupy\\_environment.py:206: UserWarning: CUDA path could not be detected. Set CUDA_PATH environment variable if CuPy fails to load.\n",
      "  'CUDA path could not be detected.'\n",
      "C:\\Users\\antho\\Anaconda3\\lib\\site-packages\\cupy\\_environment.py:206: UserWarning: CUDA path could not be detected. Set CUDA_PATH environment variable if CuPy fails to load.\n",
      "  'CUDA path could not be detected.'\n",
      "C:\\Users\\antho\\Anaconda3\\lib\\site-packages\\cupy\\_environment.py:206: UserWarning: CUDA path could not be detected. Set CUDA_PATH environment variable if CuPy fails to load.\n",
      "  'CUDA path could not be detected.'\n"
     ]
    }
   ],
   "source": [
    "import os\n",
    "import pandas as pd\n",
    "import numpy as np\n",
    "import seaborn\n",
    "import matplotlib.pyplot as plt\n",
    "import plotly.express as px\n",
    "import pandas as pd\n",
    "from scipy.spatial import distance_matrix\n",
    "\n",
    "import warnings\n",
    "warnings.filterwarnings('ignore')\n",
    "from random import randint\n",
    "from random import shuffle, random, sample, randint, randrange, uniform\n",
    "import random"
   ]
  },
  {
   "cell_type": "code",
   "execution_count": 2,
   "id": "protective-dakota",
   "metadata": {},
   "outputs": [],
   "source": [
    "df_point=pd.read_excel(\"Candidatos_supermercados.xlsx\")"
   ]
  },
  {
   "cell_type": "code",
   "execution_count": 3,
   "id": "brilliant-quantum",
   "metadata": {},
   "outputs": [],
   "source": [
    "df_point[\"ID2\"]=df_point.ID.str.split(\" \",expand=True)[1]"
   ]
  },
  {
   "cell_type": "markdown",
   "id": "aware-residence",
   "metadata": {},
   "source": [
    "## Matriz de distancia Haversine "
   ]
  },
  {
   "cell_type": "code",
   "execution_count": 4,
   "id": "active-phoenix",
   "metadata": {},
   "outputs": [],
   "source": [
    "from scipy.spatial.distance import cdist\n",
    "from haversine import haversine"
   ]
  },
  {
   "cell_type": "code",
   "execution_count": 5,
   "id": "flush-afternoon",
   "metadata": {},
   "outputs": [],
   "source": [
    "df_distance= pd.DataFrame(cdist(df_point[[\"Longitud\",\"Latitud\"]],df_point[[\"Longitud\",\"Latitud\"]],metric=haversine), index=df_point.ID2, columns=df_point.ID2)"
   ]
  },
  {
   "cell_type": "code",
   "execution_count": 6,
   "id": "played-canadian",
   "metadata": {},
   "outputs": [],
   "source": [
    "import sys\n",
    "import time\n",
    "import numpy as np\n",
    "import random\n",
    "from copy import deepcopy\n",
    "import matplotlib.pyplot as plt\n",
    "from random import randrange"
   ]
  },
  {
   "cell_type": "markdown",
   "id": "accepted-astrology",
   "metadata": {},
   "source": [
    "### Define el objeto Item en el problema de la mochila\n",
    "Un objeto de clase Item almacena el valor del item y el peso del item "
   ]
  },
  {
   "cell_type": "markdown",
   "id": "colored-short",
   "metadata": {},
   "source": [
    "## Multiobjetivo\n"
   ]
  },
  {
   "cell_type": "markdown",
   "id": "considerable-marketplace",
   "metadata": {
    "colab_type": "text",
    "id": "MnVcuNVdk-IS"
   },
   "source": [
    "### Estructura AG\n",
    "\n"
   ]
  },
  {
   "cell_type": "code",
   "execution_count": 7,
   "id": "nominated-antique",
   "metadata": {
    "colab": {},
    "colab_type": "code",
    "id": "JjbNgyCdk-IU"
   },
   "outputs": [],
   "source": [
    "class Individual:\n",
    "\n",
    "    def __init__(self, chromosome):  # el constructor recibe un cromosoma\n",
    "        self.chromosome = chromosome[:]  \n",
    "        self.fitness = -1  # -1 indica que el individuo no ha sido evaluado\n",
    "\n",
    "    def crossover_onepoint(self, other):\n",
    "        \"Retorna dos nuevos individuos del cruzamiento de un punto entre individuos self y other \"\n",
    "        c = randrange(len(self.chromosome))\n",
    "        ind1 = Individual(self.chromosome[:c] + other.chromosome[c:])\n",
    "        ind2 = Individual(other.chromosome[:c] + self.chromosome[c:])\n",
    "        return [ind1, ind2]   \n",
    "    \n",
    "    def crossover_uniform(self, other):\n",
    "        chromosome1 = []\n",
    "        chromosome2 = []\n",
    "        \"Retorna dos nuevos individuos del cruzamiento uniforme entre self y other \"\n",
    "        for i in range(len(self.chromosome)):\n",
    "            if uniform(0, 1) < 0.5:\n",
    "                chromosome1.append(self.chromosome[i])\n",
    "                chromosome2.append(other.chromosome[i])\n",
    "            else:\n",
    "                chromosome1.append(other.chromosome[i])\n",
    "                chromosome2.append(self.chromosome[i])\n",
    "        ind1 = Individual(chromosome1)\n",
    "        ind2 = Individual(chromosome2)\n",
    "        return [ind1, ind2] \n",
    "\n",
    "    def mutation_flip(self):\n",
    "        \"Cambia aleatoriamente el alelo de un gen.\"\n",
    "        new_chromosome = deepcopy(self.chromosome)\n",
    "        mutGene = randrange(0,len(new_chromosome))   # escoge un gen para mutar\n",
    "        if new_chromosome[mutGene] == 0:\n",
    "            new_chromosome[mutGene] = 1\n",
    "        else:\n",
    "            new_chromosome[mutGene] = 0\n",
    "        return Individual(new_chromosome)\n"
   ]
  },
  {
   "cell_type": "markdown",
   "id": "human-accent",
   "metadata": {
    "colab_type": "text",
    "id": "fJsv0S_8k-IZ"
   },
   "source": [
    "### Funcion para obtener los fitnesses de un cromosoma"
   ]
  },
  {
   "cell_type": "code",
   "execution_count": 8,
   "id": "unlimited-burning",
   "metadata": {
    "colab": {},
    "colab_type": "code",
    "id": "x-OUH07tk-Ic"
   },
   "outputs": [],
   "source": [
    "def get_fitness(chromosome, max_points):\n",
    "\n",
    "\n",
    "    #######################\n",
    "    fitness = np.zeros(2) # initialize fitness to 0\n",
    "    sum_locations = 0\n",
    "    \n",
    "    indexs = [i+1 for i, x in enumerate(chromosome) if x == 1]\n",
    "    indexs=list(map(str,indexs))\n",
    "    fitness[0]=df_point[df_point[\"ID2\"].isin(indexs)].iloc[:,4].sum()\n",
    "    fitness[1]=df_distance.loc[indexs][indexs].values.sum()/2 *1000# suma de todas las distancias *1000\n",
    "    if len(indexs)>max_points:\n",
    "        return [0.001,0.001]\n",
    "    return fitness\n",
    "    \n"
   ]
  },
  {
   "cell_type": "markdown",
   "id": "novel-papua",
   "metadata": {
    "colab_type": "text",
    "id": "PuScmwjyk-In"
   },
   "source": [
    "### Funcion para inicializar aleatoriamente una población de individuos"
   ]
  },
  {
   "cell_type": "code",
   "execution_count": 9,
   "id": "statewide-press",
   "metadata": {
    "colab": {},
    "colab_type": "code",
    "id": "swoZMGwdk-Io"
   },
   "outputs": [],
   "source": [
    "def init_population(pop_size, chromosome_size):\n",
    "    #Inicializa una poblacion de pop_size individuos, cada cromosoma de individuo de tamaño chromosome_size.\n",
    "    population = []\n",
    "    for i in range(pop_size):\n",
    "        new_chromosome=[0]*chromosome_size\n",
    "        lista=random.sample(range(0,chromosome_size ), 10)\n",
    "        for u in range(0,chromosome_size):\n",
    "            if u in lista:\n",
    "                new_chromosome[u]=1\n",
    "    \n",
    "   \n",
    " \n",
    "        population.append( Individual(new_chromosome) )\n",
    "    return population\n"
   ]
  },
  {
   "cell_type": "markdown",
   "id": "sorted-destiny",
   "metadata": {
    "colab_type": "text",
    "id": "Xw6sR4v7k-Ii"
   },
   "source": [
    "### Funcion para evaluar una población de individuos "
   ]
  },
  {
   "cell_type": "code",
   "execution_count": 10,
   "id": "unavailable-playing",
   "metadata": {
    "colab": {},
    "colab_type": "code",
    "id": "Pqtbl-Zlk-Ij"
   },
   "outputs": [],
   "source": [
    "def evaluate_population(population, max_points):\n",
    "    \"\"\" Evalua una poblacion de individuos con la funcion get_fitness \"\"\"\n",
    "    pop_size = len(population)\n",
    "\n",
    "    for i in range(pop_size):\n",
    "        if population[i].fitness == -1:    # evalua solo si el individuo no esta evaluado\n",
    "            population[i].fitness = get_fitness(population[i].chromosome, max_points)"
   ]
  },
  {
   "cell_type": "code",
   "execution_count": 11,
   "id": "underlying-welcome",
   "metadata": {
    "colab": {},
    "colab_type": "code",
    "id": "wCH6GXmCbqT0"
   },
   "outputs": [],
   "source": [
    "def build_offspring_population(population, crossover, mutation, pmut):     \n",
    "    \"\"\" Construye una poblacion hija con los operadores de cruzamiento y mutacion pasados\n",
    "        crossover:  operador de cruzamiento\n",
    "        mutation:   operador de mutacion\n",
    "        pmut:       taza de mutacion\n",
    "    \"\"\"\n",
    "    pop_size = len(population)\n",
    "    \n",
    "    ## Selecciona parejas de individuos (mating_pool) para cruzamiento \n",
    "    \n",
    "    mating_pool = []\n",
    "    for i in range(int(pop_size/2)): \n",
    "        # escoje dos individuos diferentes aleatoriamente de la poblacion\n",
    "        permut = np.random.permutation( pop_size )\n",
    "        mating_pool.append( (population[permut[0]], population[permut[1]] ) ) \n",
    "        \n",
    "    ## Crea la poblacion descendencia cruzando las parejas del mating pool \n",
    "    offspring_population = []\n",
    "    for i in range(len(mating_pool)): \n",
    "        if crossover == \"onepoint\":\n",
    "            offspring_population.extend( mating_pool[i][0].crossover_onepoint(mating_pool[i][1]) ) # cruzamiento 1 punto\n",
    "        elif crossover == \"uniform\":\n",
    "            offspring_population.extend( mating_pool[i][0].crossover_uniform(mating_pool[i][1]) ) # cruzamiento uniforme\n",
    "        else:\n",
    "            raise NotImplementedError\n",
    "\n",
    "    ## Aplica el operador de mutacion con probabilidad pmut en cada hijo generado\n",
    "    for i in range(len(offspring_population)):\n",
    "        if uniform(0, 1) < pmut: \n",
    "            if mutation == \"flip\":\n",
    "                offspring_population[i] = offspring_population[i].mutation_flip() # cambia el alelo de un gen\n",
    "            else:\n",
    "                raise NotImplementedError   \n",
    "                \n",
    "    return offspring_population"
   ]
  },
  {
   "cell_type": "code",
   "execution_count": 12,
   "id": "existing-xerox",
   "metadata": {
    "colab": {},
    "colab_type": "code",
    "id": "fEZpwAA8b3nA"
   },
   "outputs": [],
   "source": [
    "def get_crowding_distances(fitnesses):\n",
    "    \"\"\"\n",
    "    La distancia crowding de un individuo es la diferencia del fitness mas proximo hacia arriba menos el fitness mas proximo \n",
    "    hacia abajo. El valor crowding total es la suma de todas las distancias crowdings para todos los fitness\n",
    "    \"\"\"\n",
    "    \n",
    "    pop_size = len(fitnesses[:, 0])\n",
    "    num_objectives = len(fitnesses[0, :])\n",
    "\n",
    "    # crea matriz crowding. Filas representan individuos, columnas representan objectives\n",
    "    crowding_matrix = np.zeros((pop_size, num_objectives))\n",
    "\n",
    "    # normalisa los fitnesses entre 0 y 1 (ptp es max - min)\n",
    "    normalized_fitnesses = (fitnesses - fitnesses.min(0)) / fitnesses.ptp(0)\n",
    "\n",
    "    for col in range(num_objectives):   # Por cada objective\n",
    "        crowding = np.zeros(pop_size)\n",
    "\n",
    "        # puntos extremos tienen maximo crowding\n",
    "        crowding[0] = 1\n",
    "        crowding[pop_size - 1] = 1\n",
    "\n",
    "        # ordena los fitness normalizados del objectivo actual\n",
    "        sorted_fitnesses = np.sort(normalized_fitnesses[:, col])\n",
    "        sorted_fitnesses_index = np.argsort(normalized_fitnesses[:, col])\n",
    "\n",
    "        # Calcula la distancia crowding de cada individuo como la diferencia de score de los vecinos\n",
    "        crowding[1:pop_size - 1] = (sorted_fitnesses[2:pop_size] - sorted_fitnesses[0:pop_size - 2])\n",
    "\n",
    "        # obtiene el ordenamiento original\n",
    "        re_sort_order = np.argsort(sorted_fitnesses_index)\n",
    "        sorted_crowding = crowding[re_sort_order]\n",
    "\n",
    "        # Salva las distancias crowdingpara el objetivo que se esta iterando\n",
    "        crowding_matrix[:, col] = sorted_crowding\n",
    "\n",
    "    # Obtiene las distancias crowding finales sumando las distancias crowding de cada objetivo \n",
    "    crowding_distances = np.sum(crowding_matrix, axis=1)\n",
    "\n",
    "    return crowding_distances"
   ]
  },
  {
   "cell_type": "code",
   "execution_count": 13,
   "id": "exact-genome",
   "metadata": {
    "colab": {},
    "colab_type": "code",
    "id": "o0FGvhaucWVv"
   },
   "outputs": [],
   "source": [
    "def select_by_crowding(population, num_individuals):\n",
    "    \"\"\"\n",
    "    Selecciona una poblacion de individuos basado en torneos de pares de individuos: dos individuos se escoge al azar\n",
    "    y se selecciona el mejor segun la distancia crowding. Se repite hasta obtener num_individuals individuos\n",
    "    \"\"\"    \n",
    "    population = deepcopy(population)\n",
    "    pop_size = len(population)\n",
    "    \n",
    "    num_objectives = len(population[0].fitness)\n",
    "    \n",
    "    # extrae los fitness de la poblacion en la matriz fitnesses\n",
    "    fitnesses = np.zeros([pop_size, num_objectives])\n",
    "    for i in range(pop_size): fitnesses[i,:] = population[i].fitness\n",
    "        \n",
    "    # obtiene las  distancias  crowding\n",
    "    crowding_distances = get_crowding_distances(fitnesses)   \n",
    "    \n",
    "    population_selected = []   # poblacion escogida\n",
    "\n",
    "    for i in range(num_individuals):  # por cada individuo a seleccionar\n",
    "\n",
    "        # escoje dos individuos aleatoriamente de la poblacion no escogida aun\n",
    "        permut = np.random.permutation( len(population) )\n",
    "        ind1_id = permut[0]\n",
    "        ind2_id = permut[1]\n",
    "\n",
    "        # Si ind1_id es el mejor\n",
    "        if crowding_distances[ind1_id] >= crowding_distances[ind2_id]:\n",
    "\n",
    "            # traslada el individuo ind1 de population a la lista de individuos seleccionados\n",
    "            population_selected.append( population.pop(ind1_id) )\n",
    "            # remueve la distancia crowding del individuo seleccionado\n",
    "            crowding_distances = np.delete(crowding_distances, ind1_id, axis=0)\n",
    "            \n",
    "        else:  # Si ind2_id es el mejor\n",
    "            \n",
    "            # traslada el individuo ind2 de population a la lista de individuos seleccionados\n",
    "            population_selected.append( population.pop(ind2_id) )\n",
    "            # remueve la distancia crowding del individuo seleccionado\n",
    "            crowding_distances = np.delete(crowding_distances, ind2_id, axis=0)\n",
    "\n",
    "    return (population_selected)"
   ]
  },
  {
   "cell_type": "code",
   "execution_count": 14,
   "id": "optical-attachment",
   "metadata": {
    "colab": {},
    "colab_type": "code",
    "id": "Rc-FwddlccYR"
   },
   "outputs": [],
   "source": [
    "def get_paretofront_population(population):\n",
    "    \"\"\"\n",
    "    Obtiene de population la poblacion de individups de la frontera de Pareto, \n",
    "    \"\"\"\n",
    "    population = deepcopy(population)\n",
    "    pop_size = len(population)\n",
    "    \n",
    "    # todos los individuos son inicialmente asumidos como la frontera de Pareto\n",
    "    pareto_front = np.ones(pop_size, dtype=bool)\n",
    "    \n",
    "    for i in range(pop_size): # Compara cada individuo contra todos los demas\n",
    "        for j in range(pop_size):\n",
    "            # Chequea si individuo 'i' es dominado por individuo 'j'\n",
    "            #if all(population[j].fitness >= population[i].fitness) and any(population[j].fitness > population[i].fitness):\n",
    "            #if str(all(population[j].fitness >= population[i].fitness)) and str(any(population[j].fitness > population[i].fitness)):\n",
    "            if all(np.asarray(population[j].fitness) >= np.asarray(population[i].fitness)) and any(np.asarray(population[j].fitness) > np.asarray(population[i].fitness)):\n",
    "                # j domina i -> señaliza que individuo 'i' como no siendo parte de la frontera de Pareto\n",
    "                pareto_front[i] = 0\n",
    "                break   # Para la busqueda para 'i' (no es necesario hacer mas comparaciones)\n",
    "\n",
    "    paretofront_population = []\n",
    "    for i in range(pop_size):  # construye la lista de individuos de la frontera de Pareto \n",
    "        if pareto_front[i] == 1: paretofront_population.append(population[i])\n",
    "        \n",
    "    return paretofront_population"
   ]
  },
  {
   "cell_type": "code",
   "execution_count": 15,
   "id": "statutory-mouth",
   "metadata": {
    "colab": {},
    "colab_type": "code",
    "id": "1stz_XCkcldd"
   },
   "outputs": [],
   "source": [
    "def build_next_population(population, min_pop_size, max_pop_size):\n",
    "    \"\"\"\n",
    "    Construye la poblacion de la siguiente generacion añadiendo sucesivas fronteras de Pareto hasta \n",
    "    tener una poblacion de al menos min_pop_size individuos. Reduce la frontera de Pareto con el metodo de\n",
    "    crowding distance si al agregar la frontera excede el tamaño maximo de la poblacion (max_pop_size)\n",
    "    \"\"\"\n",
    "    population = deepcopy(population)\n",
    "    pareto_front = []\n",
    "    next_population = []\n",
    "    \n",
    "    while len(next_population) < min_pop_size:   # mientras la poblacion no tenga el tamaño minimo\n",
    "        # obtiene la poblacion frontera de Pareto actual\n",
    "        paretofront_population = get_paretofront_population(population)\n",
    "        \n",
    "        # si poblacion actual + paretofront excede el maximo permitido -> reduce paretofront con el metodo de crowding\n",
    "        combined_population_size = len(next_population) + len(paretofront_population)\n",
    "        if  combined_population_size > max_pop_size:\n",
    "            paretofront_population = select_by_crowding( paretofront_population, max_pop_size-len(next_population) ) \n",
    "        \n",
    "        # Adiciona la frontera de Pareto (original o reducida) a la poblacion en construccion\n",
    "        next_population.extend( paretofront_population )\n",
    "    \n",
    "        # remueve de population los individuos que fueron agregados a next_population \n",
    "        for i in range( len(paretofront_population) ):\n",
    "            for j in range( len(population) ):\n",
    "                if all( np.asarray(paretofront_population[i].chromosome) == np.asarray(population[j].chromosome) ):\n",
    "                    del(population[j])\n",
    "                    break\n",
    "                    \n",
    "    return next_population"
   ]
  },
  {
   "cell_type": "markdown",
   "id": "reliable-launch",
   "metadata": {
    "colab_type": "text",
    "id": "RvHCciYtdkbW"
   },
   "source": [
    "## Algoritmo genetico multiobjetivo (NSGA-II) principal"
   ]
  },
  {
   "cell_type": "code",
   "execution_count": 16,
   "id": "double-consumption",
   "metadata": {
    "colab": {},
    "colab_type": "code",
    "id": "Psw5mrPcc9Zf"
   },
   "outputs": [],
   "source": [
    "## Hiperparametros del algoritmo genetico\n",
    "\n",
    "NUM_ITEMS = 60        # numero de items\n",
    "\n",
    "MAX_POINTS = 10   # maximo peso que puede soportar la mochila\n",
    "\n",
    "#POP_SIZE = 50\n",
    "MIN_POP_SIZE = 100\n",
    "MAX_POP_SIZE = 100\n",
    "CHROMOSOME_SIZE = NUM_ITEMS\n",
    "GENERATIONS = 500   # numero de generaciones\n",
    "PMUT = 0.1         # tasa de mutacion\n"
   ]
  },
  {
   "cell_type": "code",
   "execution_count": 17,
   "id": "dependent-acquisition",
   "metadata": {
    "colab": {},
    "colab_type": "code",
    "id": "iVkkyX0zooHu"
   },
   "outputs": [],
   "source": [
    "P = init_population( MAX_POP_SIZE, CHROMOSOME_SIZE )   # Crea  una poblacion inicial\n",
    "#  evalua la poblacion inicial\n",
    "evaluate_population(P, MAX_POINTS)"
   ]
  },
  {
   "cell_type": "code",
   "execution_count": 20,
   "id": "suspended-bernard",
   "metadata": {
    "colab": {
     "base_uri": "https://localhost:8080/",
     "height": 585
    },
    "colab_type": "code",
    "executionInfo": {
     "elapsed": 47001,
     "status": "ok",
     "timestamp": 1572371634344,
     "user": {
      "displayName": "Fabrisio Gavonel Hernández",
      "photoUrl": "https://lh3.googleusercontent.com/a-/AAuE7mD7F4BiIRO_e-5t5zgCIrXH6K-H8LNN16vuow0XJg=s64",
      "userId": "02556164892834413200"
     },
     "user_tz": 300
    },
    "id": "kCNZXkfsdsbV",
    "outputId": "c9ffc4f3-b030-463e-9b9f-426d57a974dd"
   },
   "outputs": [
    {
     "name": "stdout",
     "output_type": "stream",
     "text": [
      "Generacion 0 (de 500) \n",
      "Generacion 10 (de 500) \n",
      "Generacion 20 (de 500) \n",
      "Generacion 30 (de 500) \n",
      "Generacion 40 (de 500) \n",
      "Generacion 50 (de 500) \n",
      "Generacion 60 (de 500) \n",
      "Generacion 70 (de 500) \n",
      "Generacion 80 (de 500) \n",
      "Generacion 90 (de 500) \n",
      "Generacion 100 (de 500) \n",
      "Generacion 110 (de 500) \n",
      "Generacion 120 (de 500) \n",
      "Generacion 130 (de 500) \n",
      "Generacion 140 (de 500) \n",
      "Generacion 150 (de 500) \n",
      "Generacion 160 (de 500) \n",
      "Generacion 170 (de 500) \n",
      "Generacion 180 (de 500) \n",
      "Generacion 190 (de 500) \n",
      "Generacion 200 (de 500) \n",
      "Generacion 210 (de 500) \n",
      "Generacion 220 (de 500) \n",
      "Generacion 230 (de 500) \n",
      "Generacion 240 (de 500) \n",
      "Generacion 250 (de 500) \n",
      "Generacion 260 (de 500) \n",
      "Generacion 270 (de 500) \n",
      "Generacion 280 (de 500) \n",
      "Generacion 290 (de 500) \n",
      "Generacion 300 (de 500) \n",
      "Generacion 310 (de 500) \n",
      "Generacion 320 (de 500) \n",
      "Generacion 330 (de 500) \n",
      "Generacion 340 (de 500) \n",
      "Generacion 350 (de 500) \n",
      "Generacion 360 (de 500) \n",
      "Generacion 370 (de 500) \n",
      "Generacion 380 (de 500) \n",
      "Generacion 390 (de 500) \n",
      "Generacion 400 (de 500) \n",
      "Generacion 410 (de 500) \n",
      "Generacion 420 (de 500) \n",
      "Generacion 430 (de 500) \n",
      "Generacion 440 (de 500) \n",
      "Generacion 450 (de 500) \n",
      "Generacion 460 (de 500) \n",
      "Generacion 470 (de 500) \n",
      "Generacion 480 (de 500) \n",
      "Generacion 490 (de 500) \n"
     ]
    }
   ],
   "source": [
    "## CODIGO PRINCIPAL DEL  ALGORITMO GENETICO  NSGA-II\n",
    "\n",
    "## Ejecuta los ciclos evolutivos \n",
    "for g in range(GENERATIONS):   # Por cada generacion\n",
    "    \n",
    "    if g %10 == 0:\n",
    "        print ('Generacion {} (de {}) '.format(g, GENERATIONS))\n",
    "    \n",
    "    ## genera y evalua la poblacion hija    \n",
    "    Q = build_offspring_population(P, \"uniform\", \"flip\", PMUT)\n",
    "    evaluate_population(Q, MAX_POINTS)\n",
    "    \n",
    "    ## une la poblacion padre y la poblacion hija\n",
    "    P.extend(Q) \n",
    "    \n",
    "    ## Construye la poblacion de la siguiente generacion\n",
    "    P = build_next_population(P, MIN_POP_SIZE, MAX_POP_SIZE)\n",
    "\n",
    "# Obtiene la poblacion de la frontera de pareto final \n",
    "pareto_front_population = get_paretofront_population(P)"
   ]
  },
  {
   "cell_type": "code",
   "execution_count": 21,
   "id": "demonstrated-condition",
   "metadata": {
    "colab": {
     "base_uri": "https://localhost:8080/",
     "height": 283
    },
    "colab_type": "code",
    "executionInfo": {
     "elapsed": 1222,
     "status": "ok",
     "timestamp": 1572371644869,
     "user": {
      "displayName": "Fabrisio Gavonel Hernández",
      "photoUrl": "https://lh3.googleusercontent.com/a-/AAuE7mD7F4BiIRO_e-5t5zgCIrXH6K-H8LNN16vuow0XJg=s64",
      "userId": "02556164892834413200"
     },
     "user_tz": 300
    },
    "id": "61WIbdhvd8wj",
    "outputId": "dcb87efd-cbc0-486c-9603-65a67962b102"
   },
   "outputs": [
    {
     "data": {
      "image/png": "[encoded data removed]",
      "text/plain": [
       "<Figure size 432x288 with 1 Axes>"
      ]
     },
     "metadata": {
      "needs_background": "light"
     },
     "output_type": "display_data"
    }
   ],
   "source": [
    "## Plotea los individuos de la frontera de Pareto final\n",
    "pop_size = len(pareto_front_population)\n",
    "num_objectives = len(pareto_front_population[0].fitness)\n",
    "    \n",
    "# extrae los fitness de la poblacion en la matriz fitnesses\n",
    "fitnesses = np.zeros([pop_size, num_objectives])\n",
    "for i in range(pop_size): fitnesses[i,:] = pareto_front_population[i].fitness\n",
    "\n",
    "x = fitnesses[:, 0]\n",
    "y = fitnesses[:, 1]\n",
    "plt.xlabel('Objectivo A - Poblacion')\n",
    "plt.ylabel('Objectivo B - Distancia')\n",
    "plt.scatter(x,y)\n",
    "#plt.savefig('pareto.png')\n",
    "plt.show()"
   ]
  },
  {
   "cell_type": "code",
   "execution_count": 338,
   "id": "iraqi-louisville",
   "metadata": {
    "colab": {
     "base_uri": "https://localhost:8080/",
     "height": 105
    },
    "colab_type": "code",
    "executionInfo": {
     "elapsed": 596,
     "status": "ok",
     "timestamp": 1572372088113,
     "user": {
      "displayName": "Fabrisio Gavonel Hernández",
      "photoUrl": "https://lh3.googleusercontent.com/a-/AAuE7mD7F4BiIRO_e-5t5zgCIrXH6K-H8LNN16vuow0XJg=s64",
      "userId": "02556164892834413200"
     },
     "user_tz": 300
    },
    "id": "-DHSwbTWp24w",
    "outputId": "fcbaa0d0-ecac-4a79-b7f7-1308e4cdeb18"
   },
   "outputs": [
    {
     "name": "stdout",
     "output_type": "stream",
     "text": [
      "[172400.           3331.75562863]\n",
      "[134500.           4997.38002431]\n",
      "[167200.           3789.15495333]\n",
      "[142200.           4871.63449587]\n",
      "[185600.           2050.89271701]\n"
     ]
    }
   ],
   "source": [
    "#Algunos de los valores del pareto front y su fitness:\n",
    "for i in range(5):\n",
    "    b = pareto_front_population[i].fitness\n",
    "    print(b)"
   ]
  },
  {
   "cell_type": "code",
   "execution_count": 339,
   "id": "legislative-jackson",
   "metadata": {
    "colab": {
     "base_uri": "https://localhost:8080/",
     "height": 125
    },
    "colab_type": "code",
    "executionInfo": {
     "elapsed": 773,
     "status": "ok",
     "timestamp": 1572375933275,
     "user": {
      "displayName": "Fabrisio Gavonel Hernández",
      "photoUrl": "https://lh3.googleusercontent.com/a-/AAuE7mD7F4BiIRO_e-5t5zgCIrXH6K-H8LNN16vuow0XJg=s64",
      "userId": "02556164892834413200"
     },
     "user_tz": 300
    },
    "id": "8G8YE9RRq6DH",
    "outputId": "08d4273c-b1f6-4e21-ba65-4623a4997271"
   },
   "outputs": [
    {
     "name": "stdout",
     "output_type": "stream",
     "text": [
      "[0, 1, 0, 0, 0, 0, 0, 0, 0, 0, 1, 0, 0, 1, 1, 1, 0, 0, 0, 0, 0, 0, 0, 0, 0, 0, 0, 0, 0, 0, 0, 0, 0, 0, 0, 0, 0, 0, 0, 0, 0, 0, 0, 0, 1, 0, 0, 0, 1, 1, 0, 0, 0, 0, 0, 0, 1, 0, 0, 1]\n",
      "[0, 1, 0, 0, 0, 0, 0, 0, 0, 0, 0, 0, 0, 1, 1, 0, 0, 0, 0, 0, 0, 0, 0, 0, 0, 0, 0, 1, 1, 0, 0, 1, 0, 0, 0, 0, 0, 1, 0, 0, 0, 0, 0, 0, 0, 0, 0, 0, 0, 1, 0, 0, 0, 0, 0, 0, 1, 0, 0, 1]\n",
      "[0, 1, 0, 0, 0, 0, 0, 0, 0, 0, 0, 0, 0, 1, 1, 0, 0, 0, 0, 0, 0, 0, 0, 0, 0, 0, 0, 0, 0, 0, 0, 1, 0, 0, 0, 0, 0, 0, 1, 0, 0, 0, 0, 0, 0, 0, 0, 0, 1, 1, 0, 0, 0, 0, 0, 1, 1, 0, 0, 1]\n",
      "[0, 1, 0, 0, 0, 0, 0, 0, 0, 0, 1, 0, 0, 1, 1, 0, 0, 0, 0, 0, 0, 0, 0, 0, 0, 0, 0, 1, 1, 0, 0, 1, 0, 0, 0, 0, 0, 0, 0, 0, 0, 0, 0, 0, 0, 0, 0, 0, 0, 1, 0, 0, 0, 0, 0, 0, 1, 0, 0, 1]\n",
      "[0, 1, 0, 0, 0, 0, 0, 0, 0, 0, 0, 0, 0, 1, 1, 0, 0, 0, 0, 0, 0, 0, 0, 0, 0, 0, 0, 0, 0, 0, 0, 0, 0, 0, 0, 0, 0, 0, 0, 0, 0, 0, 0, 0, 0, 0, 0, 0, 1, 1, 1, 0, 0, 0, 0, 1, 1, 0, 1, 1]\n"
     ]
    }
   ],
   "source": [
    "#Algunas de de las soluciones posibles:\n",
    "for i in range(5):\n",
    "    a = pareto_front_population[i].chromosome\n",
    "    print(a)\n",
    "  "
   ]
  }
 ],
 "metadata": {
  "kernelspec": {
   "display_name": "Python 3",
   "language": "python",
   "name": "python3"
  },
  "language_info": {
   "codemirror_mode": {
    "name": "ipython",
    "version": 3
   },
   "file_extension": ".py",
   "mimetype": "text/x-python",
   "name": "python",
   "nbconvert_exporter": "python",
   "pygments_lexer": "ipython3",
   "version": "3.7.10"
  }
 },
 "nbformat": 4,
 "nbformat_minor": 5
}
